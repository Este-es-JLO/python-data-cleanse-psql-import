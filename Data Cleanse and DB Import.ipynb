{
 "cells": [
  {
   "cell_type": "code",
   "execution_count": 1,
   "id": "c19981f7",
   "metadata": {},
   "outputs": [],
   "source": [
    "import numpy as np\n",
    "import pandas as pd\n",
    "import os\n",
    "import matplotlib.pyplot as plt\n",
    "import psycopg2\n",
    "\n",
    "from datetime import date\n"
   ]
  },
  {
   "cell_type": "code",
   "execution_count": 2,
   "id": "c0f9e01f",
   "metadata": {},
   "outputs": [
    {
     "name": "stdout",
     "output_type": "stream",
     "text": [
      "Current working directory before\n",
      "C:\\Users\\E178162\\Documents\\Work Orders\\DB\\Jupyter Notebooks\\Data Cleanse\n",
      "\n",
      "Current working directory before\n",
      "C:\\Users\\E178162\\Documents\\Work Orders\\Work Order - Data\\WO_Folders\\WO_2022-2023\n",
      "\n"
     ]
    }
   ],
   "source": [
    "# Function to Get the current\n",
    "# working directory\n",
    "def current_path():\n",
    "    print(\"Current working directory before\")\n",
    "    print(os.getcwd())\n",
    "    print()\n",
    " \n",
    " \n",
    "# Driver's code\n",
    "# Printing CWD before\n",
    "current_path()\n",
    " \n",
    "# Changing the CWD\n",
    "os.chdir('../../../Work Order - Data/WO_Folders/WO_2022-2023')\n",
    " \n",
    "# Printing CWD after\n",
    "current_path()"
   ]
  },
  {
   "cell_type": "code",
   "execution_count": 3,
   "id": "bcca0e79",
   "metadata": {},
   "outputs": [
    {
     "name": "stdout",
     "output_type": "stream",
     "text": [
      "Files in 'C:\\\\Users\\\\E178162\\\\Documents\\\\Work Orders\\\\Work Order - Data\\\\WO_Folders\\\\WO_2022-2023': Work_Order_(01_23_2023_03_12_57_PM).csv\n"
     ]
    }
   ],
   "source": [
    "cwd = os.getcwd()  # Get the current working directory (cwd)\n",
    "file = os.listdir(cwd)[0]  # Get all the files in that directory\n",
    "print(\"Files in %r: %s\" % (cwd, file))"
   ]
  },
  {
   "cell_type": "code",
   "execution_count": 4,
   "id": "967e8a68",
   "metadata": {},
   "outputs": [
    {
     "data": {
      "text/plain": [
       "True"
      ]
     },
     "execution_count": 4,
     "metadata": {},
     "output_type": "execute_result"
    }
   ],
   "source": [
    "os.path.exists(file)"
   ]
  },
  {
   "cell_type": "code",
   "execution_count": 5,
   "id": "95e5ec97",
   "metadata": {},
   "outputs": [],
   "source": [
    "df = pd.read_csv(file)"
   ]
  },
  {
   "cell_type": "code",
   "execution_count": 6,
   "id": "cc0c4f91",
   "metadata": {},
   "outputs": [
    {
     "data": {
      "text/plain": [
       "(31100, 27)"
      ]
     },
     "execution_count": 6,
     "metadata": {},
     "output_type": "execute_result"
    }
   ],
   "source": [
    "df.shape"
   ]
  },
  {
   "cell_type": "code",
   "execution_count": 7,
   "id": "9130dcba",
   "metadata": {
    "scrolled": true
   },
   "outputs": [
    {
     "name": "stdout",
     "output_type": "stream",
     "text": [
      "<class 'pandas.core.frame.DataFrame'>\n",
      "RangeIndex: 31100 entries, 0 to 31099\n",
      "Data columns (total 27 columns):\n",
      " #   Column                 Non-Null Count  Dtype  \n",
      "---  ------                 --------------  -----  \n",
      " 0   Work Order #           31100 non-null  int64  \n",
      " 1   WO Status              31100 non-null  object \n",
      " 2   Priority               29484 non-null  object \n",
      " 3   Work Category          31094 non-null  object \n",
      " 4   Problem                31094 non-null  object \n",
      " 5   Source Site            31100 non-null  object \n",
      " 6   Source Location        30034 non-null  object \n",
      " 7   Area/Room #            28313 non-null  object \n",
      " 8   Completed              27098 non-null  object \n",
      " 9   Created On             31100 non-null  object \n",
      " 10  Originated             31100 non-null  object \n",
      " 11  Originator             31100 non-null  object \n",
      " 12  Originator First Name  30423 non-null  object \n",
      " 13  Source User            30607 non-null  object \n",
      " 14  Work requested         31099 non-null  object \n",
      " 15  Cause                  2778 non-null   object \n",
      " 16  Work Type              18019 non-null  object \n",
      " 17  Action Taken           16852 non-null  object \n",
      " 18  Comments               4517 non-null   object \n",
      " 19  Labor Hrs              31100 non-null  float64\n",
      " 20  Part Cost              31100 non-null  float64\n",
      " 21  Labor Cost             31100 non-null  float64\n",
      " 22  Longitude              26317 non-null  float64\n",
      " 23  Latitude               26317 non-null  float64\n",
      " 24  PM Title               677 non-null    object \n",
      " 25  Total Hrs              31100 non-null  float64\n",
      " 26  Grand Total            31100 non-null  float64\n",
      "dtypes: float64(7), int64(1), object(19)\n",
      "memory usage: 6.4+ MB\n"
     ]
    }
   ],
   "source": [
    "df.info()"
   ]
  },
  {
   "cell_type": "code",
   "execution_count": 8,
   "id": "807b8f28",
   "metadata": {},
   "outputs": [],
   "source": [
    "df['Date Open'] = pd.to_datetime(df['Created On']).dt.date\n",
    "df['Date Closed'] = pd.to_datetime(df['Completed']).dt.date #Creates new column and sets data type from DateTime -> Date"
   ]
  },
  {
   "cell_type": "code",
   "execution_count": 9,
   "id": "adac8b3c",
   "metadata": {},
   "outputs": [],
   "source": [
    "df['Date Difference'] = date.today() - df['Date Open'] #Takes the difference between today's date from Date Open\n",
    "df['Date Difference'] = df['Date Difference'].dt.days #Converts DateTime Type to Integer"
   ]
  },
  {
   "cell_type": "code",
   "execution_count": 10,
   "id": "ffd3e36e",
   "metadata": {},
   "outputs": [],
   "source": [
    "df['Duration'] = df['Date Closed'] - df['Date Open'] #Takes the diffrence between Date Closed from Date Open\n",
    "df['Duration'] = df['Duration'].dt.days #Converts DateTime Type to Integer\n",
    "df['Duration'] = df['Duration'].abs() #Gets the Absolute Value of Column Values"
   ]
  },
  {
   "cell_type": "code",
   "execution_count": 11,
   "id": "1fcaf76f",
   "metadata": {},
   "outputs": [],
   "source": [
    "df['Site_ID'] = df['Source Site'].str[-3:] #Takes the last 3 characters froms string in this case, we get extract the Site Code"
   ]
  },
  {
   "cell_type": "code",
   "execution_count": 12,
   "id": "65b4f334",
   "metadata": {},
   "outputs": [],
   "source": [
    "df['School Year'] = '2022 - 2023'"
   ]
  },
  {
   "cell_type": "code",
   "execution_count": 13,
   "id": "00ab879a",
   "metadata": {},
   "outputs": [],
   "source": [
    "df['Duration'] = df['Duration'].fillna(df['Date Difference']) #Fill null values from Duration column with values from Date Difference"
   ]
  },
  {
   "cell_type": "code",
   "execution_count": 14,
   "id": "fe3ed0a0",
   "metadata": {},
   "outputs": [],
   "source": [
    "df['Row Count'] = 1"
   ]
  },
  {
   "cell_type": "code",
   "execution_count": 15,
   "id": "1d6bb765",
   "metadata": {},
   "outputs": [],
   "source": [
    "df = df.drop(columns=['Area/Room #', 'Originator', 'Originator First Name', 'Work requested', 'Cause', 'Action Taken', 'Comments' ,'Longitude', 'Latitude', 'PM Title', 'Completed','Created On', 'Originated']) #Drops/Removes the columns from table"
   ]
  },
  {
   "cell_type": "code",
   "execution_count": 16,
   "id": "6f57cd08",
   "metadata": {},
   "outputs": [],
   "source": [
    "df = df[df['Site_ID'].str.contains(\"ZZ-|032|941\") == False]"
   ]
  },
  {
   "cell_type": "code",
   "execution_count": 17,
   "id": "82e7ab4d",
   "metadata": {},
   "outputs": [
    {
     "data": {
      "text/html": [
       "<div>\n",
       "<style scoped>\n",
       "    .dataframe tbody tr th:only-of-type {\n",
       "        vertical-align: middle;\n",
       "    }\n",
       "\n",
       "    .dataframe tbody tr th {\n",
       "        vertical-align: top;\n",
       "    }\n",
       "\n",
       "    .dataframe thead th {\n",
       "        text-align: right;\n",
       "    }\n",
       "</style>\n",
       "<table border=\"1\" class=\"dataframe\">\n",
       "  <thead>\n",
       "    <tr style=\"text-align: right;\">\n",
       "      <th></th>\n",
       "      <th>Work Order #</th>\n",
       "      <th>WO Status</th>\n",
       "      <th>Priority</th>\n",
       "      <th>Work Category</th>\n",
       "      <th>Problem</th>\n",
       "      <th>Source Site</th>\n",
       "      <th>Source Location</th>\n",
       "      <th>Source User</th>\n",
       "      <th>Work Type</th>\n",
       "      <th>Labor Hrs</th>\n",
       "      <th>...</th>\n",
       "      <th>Labor Cost</th>\n",
       "      <th>Total Hrs</th>\n",
       "      <th>Grand Total</th>\n",
       "      <th>Date Open</th>\n",
       "      <th>Date Closed</th>\n",
       "      <th>Date Difference</th>\n",
       "      <th>Duration</th>\n",
       "      <th>Site_ID</th>\n",
       "      <th>School Year</th>\n",
       "      <th>Row Count</th>\n",
       "    </tr>\n",
       "  </thead>\n",
       "  <tbody>\n",
       "    <tr>\n",
       "      <th>0</th>\n",
       "      <td>260769</td>\n",
       "      <td>New Request</td>\n",
       "      <td>Low</td>\n",
       "      <td>HVAC - Air Conditioning</td>\n",
       "      <td>Not Heating</td>\n",
       "      <td>Bowie HS - 013</td>\n",
       "      <td>Bowie B213</td>\n",
       "      <td>Edward Botello</td>\n",
       "      <td>NaN</td>\n",
       "      <td>0.0</td>\n",
       "      <td>...</td>\n",
       "      <td>0.0</td>\n",
       "      <td>0.0</td>\n",
       "      <td>0.0</td>\n",
       "      <td>2023-01-23</td>\n",
       "      <td>NaT</td>\n",
       "      <td>0</td>\n",
       "      <td>0.0</td>\n",
       "      <td>013</td>\n",
       "      <td>2022 - 2023</td>\n",
       "      <td>1</td>\n",
       "    </tr>\n",
       "    <tr>\n",
       "      <th>1</th>\n",
       "      <td>260768</td>\n",
       "      <td>New Request</td>\n",
       "      <td>Low</td>\n",
       "      <td>Electrical</td>\n",
       "      <td>Other</td>\n",
       "      <td>Eastside HS - 019</td>\n",
       "      <td>Eastside  A116</td>\n",
       "      <td>Thorsten Smaglinski</td>\n",
       "      <td>NaN</td>\n",
       "      <td>0.0</td>\n",
       "      <td>...</td>\n",
       "      <td>0.0</td>\n",
       "      <td>0.0</td>\n",
       "      <td>0.0</td>\n",
       "      <td>2023-01-23</td>\n",
       "      <td>NaT</td>\n",
       "      <td>0</td>\n",
       "      <td>0.0</td>\n",
       "      <td>019</td>\n",
       "      <td>2022 - 2023</td>\n",
       "      <td>1</td>\n",
       "    </tr>\n",
       "    <tr>\n",
       "      <th>2</th>\n",
       "      <td>260767</td>\n",
       "      <td>In Progress</td>\n",
       "      <td>High</td>\n",
       "      <td>AV/Electronics</td>\n",
       "      <td>Document Camera</td>\n",
       "      <td>Langford ES - 168</td>\n",
       "      <td>Langford 705</td>\n",
       "      <td>Al Gonzalez A/V</td>\n",
       "      <td>Reactive Maintenance</td>\n",
       "      <td>0.0</td>\n",
       "      <td>...</td>\n",
       "      <td>0.0</td>\n",
       "      <td>0.0</td>\n",
       "      <td>0.0</td>\n",
       "      <td>2023-01-23</td>\n",
       "      <td>NaT</td>\n",
       "      <td>0</td>\n",
       "      <td>0.0</td>\n",
       "      <td>168</td>\n",
       "      <td>2022 - 2023</td>\n",
       "      <td>1</td>\n",
       "    </tr>\n",
       "    <tr>\n",
       "      <th>3</th>\n",
       "      <td>260766</td>\n",
       "      <td>New Request</td>\n",
       "      <td>Low</td>\n",
       "      <td>Building Operations</td>\n",
       "      <td>Other</td>\n",
       "      <td>Covington MS - 057</td>\n",
       "      <td>FINE ARTS</td>\n",
       "      <td>Steven Harness</td>\n",
       "      <td>Safety &amp; Security</td>\n",
       "      <td>0.0</td>\n",
       "      <td>...</td>\n",
       "      <td>0.0</td>\n",
       "      <td>0.0</td>\n",
       "      <td>0.0</td>\n",
       "      <td>2023-01-23</td>\n",
       "      <td>NaT</td>\n",
       "      <td>0</td>\n",
       "      <td>0.0</td>\n",
       "      <td>057</td>\n",
       "      <td>2022 - 2023</td>\n",
       "      <td>1</td>\n",
       "    </tr>\n",
       "    <tr>\n",
       "      <th>4</th>\n",
       "      <td>260765</td>\n",
       "      <td>New Request</td>\n",
       "      <td>Low</td>\n",
       "      <td>Locksmith</td>\n",
       "      <td>Locks</td>\n",
       "      <td>Menchaca ES - 147</td>\n",
       "      <td>Menchaca A119</td>\n",
       "      <td>Arthur Mendez</td>\n",
       "      <td>Safety &amp; Security</td>\n",
       "      <td>0.0</td>\n",
       "      <td>...</td>\n",
       "      <td>0.0</td>\n",
       "      <td>0.0</td>\n",
       "      <td>0.0</td>\n",
       "      <td>2023-01-23</td>\n",
       "      <td>NaT</td>\n",
       "      <td>0</td>\n",
       "      <td>0.0</td>\n",
       "      <td>147</td>\n",
       "      <td>2022 - 2023</td>\n",
       "      <td>1</td>\n",
       "    </tr>\n",
       "  </tbody>\n",
       "</table>\n",
       "<p>5 rows × 21 columns</p>\n",
       "</div>"
      ],
      "text/plain": [
       "   Work Order #    WO Status Priority            Work Category  \\\n",
       "0        260769  New Request      Low  HVAC - Air Conditioning   \n",
       "1        260768  New Request      Low               Electrical   \n",
       "2        260767  In Progress     High           AV/Electronics   \n",
       "3        260766  New Request      Low      Building Operations   \n",
       "4        260765  New Request      Low                Locksmith   \n",
       "\n",
       "           Problem         Source Site Source Location          Source User  \\\n",
       "0      Not Heating      Bowie HS - 013      Bowie B213       Edward Botello   \n",
       "1            Other   Eastside HS - 019  Eastside  A116  Thorsten Smaglinski   \n",
       "2  Document Camera   Langford ES - 168    Langford 705      Al Gonzalez A/V   \n",
       "3            Other  Covington MS - 057       FINE ARTS       Steven Harness   \n",
       "4            Locks   Menchaca ES - 147   Menchaca A119        Arthur Mendez   \n",
       "\n",
       "              Work Type  Labor Hrs  ...  Labor Cost  Total Hrs  Grand Total  \\\n",
       "0                   NaN        0.0  ...         0.0        0.0          0.0   \n",
       "1                   NaN        0.0  ...         0.0        0.0          0.0   \n",
       "2  Reactive Maintenance        0.0  ...         0.0        0.0          0.0   \n",
       "3    Safety & Security         0.0  ...         0.0        0.0          0.0   \n",
       "4    Safety & Security         0.0  ...         0.0        0.0          0.0   \n",
       "\n",
       "    Date Open Date Closed Date Difference  Duration  Site_ID  School Year  \\\n",
       "0  2023-01-23         NaT               0       0.0      013  2022 - 2023   \n",
       "1  2023-01-23         NaT               0       0.0      019  2022 - 2023   \n",
       "2  2023-01-23         NaT               0       0.0      168  2022 - 2023   \n",
       "3  2023-01-23         NaT               0       0.0      057  2022 - 2023   \n",
       "4  2023-01-23         NaT               0       0.0      147  2022 - 2023   \n",
       "\n",
       "  Row Count  \n",
       "0         1  \n",
       "1         1  \n",
       "2         1  \n",
       "3         1  \n",
       "4         1  \n",
       "\n",
       "[5 rows x 21 columns]"
      ]
     },
     "execution_count": 17,
     "metadata": {},
     "output_type": "execute_result"
    }
   ],
   "source": [
    "df.head()"
   ]
  },
  {
   "cell_type": "code",
   "execution_count": 18,
   "id": "a3cf3a98",
   "metadata": {},
   "outputs": [
    {
     "name": "stdout",
     "output_type": "stream",
     "text": [
      "<class 'pandas.core.frame.DataFrame'>\n",
      "Int64Index: 31099 entries, 0 to 31099\n",
      "Data columns (total 21 columns):\n",
      " #   Column           Non-Null Count  Dtype  \n",
      "---  ------           --------------  -----  \n",
      " 0   Work Order #     31099 non-null  int64  \n",
      " 1   WO Status        31099 non-null  object \n",
      " 2   Priority         29483 non-null  object \n",
      " 3   Work Category    31093 non-null  object \n",
      " 4   Problem          31093 non-null  object \n",
      " 5   Source Site      31099 non-null  object \n",
      " 6   Source Location  30033 non-null  object \n",
      " 7   Source User      30606 non-null  object \n",
      " 8   Work Type        18018 non-null  object \n",
      " 9   Labor Hrs        31099 non-null  float64\n",
      " 10  Part Cost        31099 non-null  float64\n",
      " 11  Labor Cost       31099 non-null  float64\n",
      " 12  Total Hrs        31099 non-null  float64\n",
      " 13  Grand Total      31099 non-null  float64\n",
      " 14  Date Open        31099 non-null  object \n",
      " 15  Date Closed      27097 non-null  object \n",
      " 16  Date Difference  31099 non-null  int64  \n",
      " 17  Duration         31099 non-null  float64\n",
      " 18  Site_ID          31099 non-null  object \n",
      " 19  School Year      31099 non-null  object \n",
      " 20  Row Count        31099 non-null  int64  \n",
      "dtypes: float64(6), int64(3), object(12)\n",
      "memory usage: 5.2+ MB\n"
     ]
    }
   ],
   "source": [
    "df.info()"
   ]
  },
  {
   "cell_type": "code",
   "execution_count": 19,
   "id": "44d65c60",
   "metadata": {},
   "outputs": [
    {
     "name": "stdout",
     "output_type": "stream",
     "text": [
      "<class 'pandas.core.frame.DataFrame'>\n",
      "Int64Index: 31092 entries, 0 to 31099\n",
      "Data columns (total 21 columns):\n",
      " #   Column           Non-Null Count  Dtype  \n",
      "---  ------           --------------  -----  \n",
      " 0   Work Order #     31092 non-null  int64  \n",
      " 1   WO Status        31092 non-null  object \n",
      " 2   Priority         29476 non-null  object \n",
      " 3   Work Category    31086 non-null  object \n",
      " 4   Problem          31086 non-null  object \n",
      " 5   Source Site      31092 non-null  object \n",
      " 6   Source Location  30026 non-null  object \n",
      " 7   Source User      30599 non-null  object \n",
      " 8   Work Type        18012 non-null  object \n",
      " 9   Labor Hrs        31092 non-null  float64\n",
      " 10  Part Cost        31092 non-null  float64\n",
      " 11  Labor Cost       31092 non-null  float64\n",
      " 12  Total Hrs        31092 non-null  float64\n",
      " 13  Grand Total      31092 non-null  float64\n",
      " 14  Date Open        31092 non-null  object \n",
      " 15  Date Closed      27092 non-null  object \n",
      " 16  Date Difference  31092 non-null  int64  \n",
      " 17  Duration         31092 non-null  float64\n",
      " 18  Site_ID          31092 non-null  object \n",
      " 19  School Year      31092 non-null  object \n",
      " 20  Row Count        31092 non-null  int64  \n",
      "dtypes: float64(6), int64(3), object(12)\n",
      "memory usage: 5.2+ MB\n"
     ]
    }
   ],
   "source": [
    "df = df.drop_duplicates(subset='Work Order #', keep='first')\n",
    "df.info()"
   ]
  },
  {
   "cell_type": "code",
   "execution_count": 20,
   "id": "dde42dd2",
   "metadata": {},
   "outputs": [
    {
     "data": {
      "text/plain": [
       "'updated_work_orders.csv'"
      ]
     },
     "execution_count": 20,
     "metadata": {},
     "output_type": "execute_result"
    }
   ],
   "source": [
    "clean_tbl_name = file.lower().replace(\" \",\"\").replace(\"?\", \"\")\\\n",
    "                    .replace(\"-\", \"_\").replace(r\"/\",\"_\").replace(\"\\\\\", \"_\")\\\n",
    "                    .replace(\"%\", \"\").replace(\")\", \"\").replace(r\"(\",\"\").replace(\"$\", \"\")\\\n",
    "                    .replace(\"pm\", \"\").replace(\"1\", \"\").replace(\"2\", \"\").replace(\"3\", \"\")\\\n",
    "                    .replace(\"4\", \"\").replace(\"5\", \"\").replace(\"6\", \"\").replace(\"7\", \"\")\\\n",
    "                    .replace(\"8\", \"\").replace(\"9\", \"\").replace(\"0\", \"\").replace(\"_\", \"\")\\\n",
    "                    .replace(\"workorder\", \"updated_work_orders\")\n",
    "clean_tbl_name"
   ]
  },
  {
   "cell_type": "code",
   "execution_count": 21,
   "id": "7ab45958",
   "metadata": {},
   "outputs": [
    {
     "data": {
      "text/plain": [
       "Index(['work_order_id', 'wo_status', 'priority', 'work_category', 'problem',\n",
       "       'source_site', 'source_location', 'source_user', 'work_type',\n",
       "       'labor_hrs', 'part_cost', 'labor_cost', 'total_hrs', 'grand_total',\n",
       "       'date_open', 'date_closed', 'date_difference', 'duration', 'site_id',\n",
       "       'school_year', 'row_count'],\n",
       "      dtype='object')"
      ]
     },
     "execution_count": 21,
     "metadata": {},
     "output_type": "execute_result"
    }
   ],
   "source": [
    "df.columns = [x.lower().replace(\" \",\"_\").replace(\"?\", \"\").replace(\"#\", \"id\")\\\n",
    "                    .replace(\"-\", \"_\").replace(r\"/\",\"_\").replace(\"\\\\\", \"_\")\\\n",
    "                    .replace(\"%\", \"\").replace(\")\", \"\").replace(r\"(\",\"\").replace(\"$\", \"\") for x in df.columns]\n",
    "\n",
    "df.columns"
   ]
  },
  {
   "cell_type": "code",
   "execution_count": 22,
   "id": "4b388f62",
   "metadata": {},
   "outputs": [
    {
     "data": {
      "text/plain": [
       "work_order_id        int64\n",
       "wo_status           object\n",
       "priority            object\n",
       "work_category       object\n",
       "problem             object\n",
       "source_site         object\n",
       "source_location     object\n",
       "source_user         object\n",
       "work_type           object\n",
       "labor_hrs          float64\n",
       "part_cost          float64\n",
       "labor_cost         float64\n",
       "total_hrs          float64\n",
       "grand_total        float64\n",
       "date_open           object\n",
       "date_closed         object\n",
       "date_difference      int64\n",
       "duration           float64\n",
       "site_id             object\n",
       "school_year         object\n",
       "row_count            int64\n",
       "dtype: object"
      ]
     },
     "execution_count": 22,
     "metadata": {},
     "output_type": "execute_result"
    }
   ],
   "source": [
    "df.dtypes"
   ]
  },
  {
   "cell_type": "code",
   "execution_count": 23,
   "id": "fa5732c1",
   "metadata": {},
   "outputs": [
    {
     "data": {
      "text/plain": [
       "{'object': 'varchar',\n",
       " 'float64': 'float',\n",
       " 'int64': 'int',\n",
       " 'datetime64': 'timestamp',\n",
       " 'timedelta64[ns]': 'varchar'}"
      ]
     },
     "execution_count": 23,
     "metadata": {},
     "output_type": "execute_result"
    }
   ],
   "source": [
    "replacements = {\n",
    "    'object': 'varchar',\n",
    "    'float64': 'float',\n",
    "    'int64': 'int',\n",
    "    'datetime64': 'timestamp',\n",
    "    'timedelta64[ns]': 'varchar'\n",
    "}\n",
    "\n",
    "replacements"
   ]
  },
  {
   "cell_type": "code",
   "execution_count": 24,
   "id": "4f91744b",
   "metadata": {},
   "outputs": [
    {
     "data": {
      "text/plain": [
       "'work_order_id int, wo_status varchar, priority varchar, work_category varchar, problem varchar, source_site varchar, source_location varchar, source_user varchar, work_type varchar, labor_hrs float, part_cost float, labor_cost float, total_hrs float, grand_total float, date_open varchar, date_closed varchar, date_difference int, duration float, site_id varchar, school_year varchar, row_count int'"
      ]
     },
     "execution_count": 24,
     "metadata": {},
     "output_type": "execute_result"
    }
   ],
   "source": [
    "col_str = \", \".join(\"{} {}\".format(n, d) for (n,d) in zip(df.columns, df.dtypes.replace(replacements)))\n",
    "col_str"
   ]
  },
  {
   "cell_type": "code",
   "execution_count": 25,
   "id": "79770c91",
   "metadata": {},
   "outputs": [
    {
     "name": "stdout",
     "output_type": "stream",
     "text": [
      "opened database successfully!\n"
     ]
    }
   ],
   "source": [
    "conn_string = \"host=localhost\\\n",
    "               dbname='work_orders'\\\n",
    "               user=postgres password='postgres'\"\n",
    "\n",
    "conn = psycopg2.connect(conn_string)\n",
    "cursor = conn.cursor()\n",
    "print('opened database successfully!')"
   ]
  },
  {
   "cell_type": "code",
   "execution_count": 26,
   "id": "c5eedc87",
   "metadata": {},
   "outputs": [],
   "source": [
    "#drop table\n",
    "cursor.execute(\"drop table if exists work_orders;\")"
   ]
  },
  {
   "cell_type": "code",
   "execution_count": 27,
   "id": "83794b3c",
   "metadata": {},
   "outputs": [],
   "source": [
    "#create table\n",
    "cursor.execute(\"CREATE TABLE work_orders \\\n",
    "(work_order_id INT NOT NULL PRIMARY KEY, wo_status VARCHAR(50), priority VARCHAR(50), \\\n",
    "work_category VARCHAR(50) REFERENCES work_category(work_category), problem VARCHAR(50), \\\n",
    "source_site VARCHAR(50), source_location VARCHAR(50), source_user VARCHAR(50), work_type VARCHAR(50),\\\n",
    "labor_hrs float, part_cost float, labor_cost float, total_hrs float, grand_total float, \\\n",
    "date_open DATE, date_closed DATE, \\\n",
    "date_difference float, duration float, site_id INT REFERENCES schools(site_id), school_year VARCHAR(25), row_count INT NOT NULL)\")"
   ]
  },
  {
   "cell_type": "code",
   "execution_count": 28,
   "id": "bccfb0b0",
   "metadata": {},
   "outputs": [
    {
     "name": "stdout",
     "output_type": "stream",
     "text": [
      "File opened in memory and export successful!\n"
     ]
    }
   ],
   "source": [
    "df.to_csv('updated_work_orders.csv', header=df.columns, index=False, encoding='utf=8')\n",
    "\n",
    "my_file = open('updated_work_orders.csv')\n",
    "print('File opened in memory and export successful!')"
   ]
  },
  {
   "cell_type": "code",
   "execution_count": 29,
   "id": "2978cdd8",
   "metadata": {},
   "outputs": [
    {
     "name": "stdout",
     "output_type": "stream",
     "text": [
      "file copied to db!\n"
     ]
    }
   ],
   "source": [
    "#upload to db\n",
    "\n",
    "SQL_STATEMENT = \"\"\"\n",
    "COPY work_orders FROM STDIN WITH \n",
    "    CSV\n",
    "    HEADER\n",
    "    DELIMITER AS ','\n",
    "\"\"\"\n",
    "\n",
    "cursor.copy_expert(sql = SQL_STATEMENT, file=my_file)\n",
    "print('file copied to db!')"
   ]
  },
  {
   "cell_type": "markdown",
   "id": "55692b08",
   "metadata": {},
   "source": [
    "cursor.execute(\"grant select on table work_orders to public\")\n",
    "conn.commit()\n",
    "\n",
    "cursor.close()\n",
    "print('CSV imported to DB successfully!')"
   ]
  }
 ],
 "metadata": {
  "kernelspec": {
   "display_name": "Python 3 (ipykernel)",
   "language": "python",
   "name": "python3"
  },
  "language_info": {
   "codemirror_mode": {
    "name": "ipython",
    "version": 3
   },
   "file_extension": ".py",
   "mimetype": "text/x-python",
   "name": "python",
   "nbconvert_exporter": "python",
   "pygments_lexer": "ipython3",
   "version": "3.9.12"
  }
 },
 "nbformat": 4,
 "nbformat_minor": 5
}
