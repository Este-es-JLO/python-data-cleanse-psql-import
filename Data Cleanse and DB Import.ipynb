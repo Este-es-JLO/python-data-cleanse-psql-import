{
 "cells": [
  {
   "cell_type": "code",
   "execution_count": 1,
   "id": "c19981f7",
   "metadata": {},
   "outputs": [],
   "source": [
    "import numpy as np\n",
    "import pandas as pd\n",
    "import os\n",
    "import matplotlib.pyplot as plt\n",
    "import psycopg2\n",
    "import glob\n",
    "\n",
    "from datetime import date\n"
   ]
  },
  {
   "cell_type": "code",
   "execution_count": 2,
   "id": "c0f9e01f",
   "metadata": {},
   "outputs": [
    {
     "name": "stdout",
     "output_type": "stream",
     "text": [
      "Current Directory:\n",
      "C:\\Users\\E178162\\Documents\\Work Orders\\DB\\Jupyter Notebooks\\Data Cleanse\n",
      "\n",
      "New Directory:\n",
      "C:\\Users\\E178162\\Documents\\Work Orders\\Work Order - Data\\WO_Folders\\WO_2022-2023\n",
      "\n",
      "Latest CSV Received:  Work_Order_(01_25_2023_02_59_42_PM).csv\n"
     ]
    },
    {
     "data": {
      "text/plain": [
       "True"
      ]
     },
     "execution_count": 2,
     "metadata": {},
     "output_type": "execute_result"
    }
   ],
   "source": [
    "# Function to get current working directory\n",
    "def current_path():\n",
    "    print(\"Current Directory:\")\n",
    "    print(os.getcwd())\n",
    "    print()\n",
    "    \n",
    "# Function to get new directory \n",
    "def new_path():\n",
    "    print(\"New Directory:\")\n",
    "    print(os.getcwd())\n",
    "    print()\n",
    " \n",
    " \n",
    "# Driver's code\n",
    "# Printing CWD before\n",
    "current_path()\n",
    " \n",
    "# Changing the CWD\n",
    "os.chdir('../../../Work Order - Data/WO_Folders/WO_2022-2023')\n",
    " \n",
    "# Printing CWD after\n",
    "new_path()\n",
    "\n",
    "#Itererates and gets the latest file\n",
    "cwd = os.getcwd()\n",
    "files = [x for x in os.listdir(cwd) if x.endswith(\".csv\")]\n",
    "newest_file = max(files, key = os.path.getctime)\n",
    "print(\"Latest CSV Received: \", newest_file)\n",
    "\n",
    "#Ensuring that the files is chosen:\n",
    "os.path.exists(newest_file)"
   ]
  },
  {
   "cell_type": "code",
   "execution_count": 5,
   "id": "807b8f28",
   "metadata": {},
   "outputs": [
    {
     "name": "stdout",
     "output_type": "stream",
     "text": [
      "<class 'pandas.core.frame.DataFrame'>\n",
      "Int64Index: 31551 entries, 0 to 31554\n",
      "Data columns (total 21 columns):\n",
      " #   Column           Non-Null Count  Dtype  \n",
      "---  ------           --------------  -----  \n",
      " 0   Work Order #     31551 non-null  int64  \n",
      " 1   WO Status        31551 non-null  object \n",
      " 2   Priority         29933 non-null  object \n",
      " 3   Work Category    31550 non-null  object \n",
      " 4   Problem          31550 non-null  object \n",
      " 5   Source Site      31551 non-null  object \n",
      " 6   Source Location  30473 non-null  object \n",
      " 7   Source User      31052 non-null  object \n",
      " 8   Work Type        18293 non-null  object \n",
      " 9   Labor Hrs        31551 non-null  float64\n",
      " 10  Part Cost        31551 non-null  float64\n",
      " 11  Labor Cost       31551 non-null  float64\n",
      " 12  Total Hrs        31551 non-null  float64\n",
      " 13  Grand Total      31551 non-null  float64\n",
      " 14  Date Open        31551 non-null  object \n",
      " 15  Date Closed      27501 non-null  object \n",
      " 16  Date Difference  31551 non-null  int64  \n",
      " 17  Duration         31551 non-null  float64\n",
      " 18  Site_ID          31551 non-null  object \n",
      " 19  School Year      31551 non-null  object \n",
      " 20  Row Count        31551 non-null  int64  \n",
      "dtypes: float64(6), int64(3), object(12)\n",
      "memory usage: 5.3+ MB\n"
     ]
    }
   ],
   "source": [
    "df = pd.read_csv(newest_file)\n",
    "\n",
    "df['Date Open'] = pd.to_datetime(df['Created On']).dt.date\n",
    "df['Date Closed'] = pd.to_datetime(df['Completed']).dt.date #Creates new column and sets data type from DateTime -> Date\n",
    "\n",
    "df['Date Difference'] = date.today() - df['Date Open'] #Takes the difference between today's date from Date Open\n",
    "df['Date Difference'] = df['Date Difference'].dt.days #Converts DateTime Type to Integer\n",
    "\n",
    "df['Duration'] = df['Date Closed'] - df['Date Open'] #Takes the diffrence between Date Closed from Date Open\n",
    "df['Duration'] = df['Duration'].dt.days #Converts DateTime Type to Integer\n",
    "df['Duration'] = df['Duration'].abs() #Gets the Absolute Value of Column Values\n",
    "\n",
    "df['Site_ID'] = df['Source Site'].str[-3:] #Takes the last 3 characters froms string in this case, we get extract the Site Code\n",
    "\n",
    "df['School Year'] = '2022 - 2023' #Create new column of School Year\n",
    "\n",
    "df['Duration'] = df['Duration'].fillna(df['Date Difference']) #Fill null values from Duration column with values from Date Difference\n",
    "\n",
    "df['Row Count'] = 1 #Create new column of Row Count\n",
    "\n",
    "df = df.drop(columns=['Area/Room #', 'Originator', 'Originator First Name', 'Work requested', 'Cause', 'Action Taken', 'Comments' ,'Longitude', 'Latitude', 'PM Title', 'Completed','Created On', 'Originated']) #Drops/Removes the columns from table\n",
    "\n",
    "df = df[df['Site_ID'].str.contains(\"ZZ-|032|941\") == False] #Remove any string or cell that contains those characters\n",
    "\n",
    "df = df.drop_duplicates(subset='Work Order #', keep='first') #Remove any duplicates\n",
    "df.info()"
   ]
  },
  {
   "cell_type": "code",
   "execution_count": 7,
   "id": "dde42dd2",
   "metadata": {},
   "outputs": [
    {
     "data": {
      "text/plain": [
       "'updated_work_orders.csv'"
      ]
     },
     "execution_count": 7,
     "metadata": {},
     "output_type": "execute_result"
    }
   ],
   "source": [
    "#Change the file to \"updated work orders\"\n",
    "clean_tbl_name = newest_file.lower().replace(\" \",\"\").replace(\"?\", \"\")\\\n",
    "                    .replace(\"-\", \"_\").replace(r\"/\",\"_\").replace(\"\\\\\", \"_\")\\\n",
    "                    .replace(\"%\", \"\").replace(\")\", \"\").replace(r\"(\",\"\").replace(\"$\", \"\")\\\n",
    "                    .replace(\"pm\", \"\").replace(\"1\", \"\").replace(\"2\", \"\").replace(\"3\", \"\")\\\n",
    "                    .replace(\"4\", \"\").replace(\"5\", \"\").replace(\"6\", \"\").replace(\"7\", \"\")\\\n",
    "                    .replace(\"8\", \"\").replace(\"9\", \"\").replace(\"0\", \"\").replace(\"_\", \"\")\\\n",
    "                    .replace(\"workorder\", \"updated_work_orders\")\n",
    "clean_tbl_name"
   ]
  },
  {
   "cell_type": "code",
   "execution_count": 8,
   "id": "7ab45958",
   "metadata": {},
   "outputs": [
    {
     "data": {
      "text/plain": [
       "Index(['work_order_id', 'wo_status', 'priority', 'work_category', 'problem',\n",
       "       'source_site', 'source_location', 'source_user', 'work_type',\n",
       "       'labor_hrs', 'part_cost', 'labor_cost', 'total_hrs', 'grand_total',\n",
       "       'date_open', 'date_closed', 'date_difference', 'duration', 'site_id',\n",
       "       'school_year', 'row_count'],\n",
       "      dtype='object')"
      ]
     },
     "execution_count": 8,
     "metadata": {},
     "output_type": "execute_result"
    }
   ],
   "source": [
    "#Modify column names\n",
    "df.columns = [x.lower().replace(\" \",\"_\").replace(\"?\", \"\").replace(\"#\", \"id\")\\\n",
    "                    .replace(\"-\", \"_\").replace(r\"/\",\"_\").replace(\"\\\\\", \"_\")\\\n",
    "                    .replace(\"%\", \"\").replace(\")\", \"\").replace(r\"(\",\"\").replace(\"$\", \"\") for x in df.columns]\n",
    "\n",
    "df.columns"
   ]
  },
  {
   "cell_type": "code",
   "execution_count": 9,
   "id": "4b388f62",
   "metadata": {},
   "outputs": [
    {
     "data": {
      "text/plain": [
       "work_order_id        int64\n",
       "wo_status           object\n",
       "priority            object\n",
       "work_category       object\n",
       "problem             object\n",
       "source_site         object\n",
       "source_location     object\n",
       "source_user         object\n",
       "work_type           object\n",
       "labor_hrs          float64\n",
       "part_cost          float64\n",
       "labor_cost         float64\n",
       "total_hrs          float64\n",
       "grand_total        float64\n",
       "date_open           object\n",
       "date_closed         object\n",
       "date_difference      int64\n",
       "duration           float64\n",
       "site_id             object\n",
       "school_year         object\n",
       "row_count            int64\n",
       "dtype: object"
      ]
     },
     "execution_count": 9,
     "metadata": {},
     "output_type": "execute_result"
    }
   ],
   "source": [
    "df.dtypes"
   ]
  },
  {
   "cell_type": "code",
   "execution_count": 10,
   "id": "fa5732c1",
   "metadata": {},
   "outputs": [
    {
     "data": {
      "text/plain": [
       "{'object': 'varchar',\n",
       " 'float64': 'float',\n",
       " 'int64': 'int',\n",
       " 'datetime64': 'timestamp',\n",
       " 'timedelta64[ns]': 'varchar'}"
      ]
     },
     "execution_count": 10,
     "metadata": {},
     "output_type": "execute_result"
    }
   ],
   "source": [
    "replacements = {\n",
    "    'object': 'varchar',\n",
    "    'float64': 'float',\n",
    "    'int64': 'int',\n",
    "    'datetime64': 'timestamp',\n",
    "    'timedelta64[ns]': 'varchar'\n",
    "}\n",
    "\n",
    "replacements"
   ]
  },
  {
   "cell_type": "code",
   "execution_count": 11,
   "id": "4f91744b",
   "metadata": {},
   "outputs": [
    {
     "data": {
      "text/plain": [
       "'work_order_id int, wo_status varchar, priority varchar, work_category varchar, problem varchar, source_site varchar, source_location varchar, source_user varchar, work_type varchar, labor_hrs float, part_cost float, labor_cost float, total_hrs float, grand_total float, date_open varchar, date_closed varchar, date_difference int, duration float, site_id varchar, school_year varchar, row_count int'"
      ]
     },
     "execution_count": 11,
     "metadata": {},
     "output_type": "execute_result"
    }
   ],
   "source": [
    "col_str = \", \".join(\"{} {}\".format(n, d) for (n,d) in zip(df.columns, df.dtypes.replace(replacements)))\n",
    "col_str"
   ]
  },
  {
   "cell_type": "code",
   "execution_count": 12,
   "id": "79770c91",
   "metadata": {},
   "outputs": [
    {
     "name": "stdout",
     "output_type": "stream",
     "text": [
      "opened database successfully!\n"
     ]
    }
   ],
   "source": [
    "#Connect to my PSQL Server\n",
    "conn_string = \"host=localhost\\\n",
    "               dbname='work_orders'\\\n",
    "               user=postgres password='postgres'\"\n",
    "\n",
    "conn = psycopg2.connect(conn_string)\n",
    "cursor = conn.cursor()\n",
    "print('opened database successfully!')"
   ]
  },
  {
   "cell_type": "code",
   "execution_count": 13,
   "id": "c5eedc87",
   "metadata": {},
   "outputs": [],
   "source": [
    "#drop table\n",
    "cursor.execute(\"drop table if exists work_orders;\")"
   ]
  },
  {
   "cell_type": "code",
   "execution_count": 14,
   "id": "83794b3c",
   "metadata": {},
   "outputs": [],
   "source": [
    "#create table\n",
    "cursor.execute(\"CREATE TABLE work_orders \\\n",
    "(work_order_id INT NOT NULL PRIMARY KEY, wo_status VARCHAR(50), priority VARCHAR(50), \\\n",
    "work_category VARCHAR(50) REFERENCES work_category(work_category), problem VARCHAR(50), \\\n",
    "source_site VARCHAR(50), source_location VARCHAR(50), source_user VARCHAR(50), work_type VARCHAR(50),\\\n",
    "labor_hrs float, part_cost float, labor_cost float, total_hrs float, grand_total float, \\\n",
    "date_open DATE, date_closed DATE, \\\n",
    "date_difference float, duration float, site_id INT REFERENCES schools(site_id), school_year VARCHAR(25), row_count INT NOT NULL)\")"
   ]
  },
  {
   "cell_type": "code",
   "execution_count": 15,
   "id": "94d9da00",
   "metadata": {},
   "outputs": [
    {
     "name": "stdout",
     "output_type": "stream",
     "text": [
      "Current Directory:\n",
      "C:\\Users\\E178162\\Documents\\Work Orders\\Work Order - Data\\WO_Folders\\WO_2022-2023\n",
      "\n",
      "New Directory:\n",
      "C:\\Users\\E178162\\Documents\\Work Orders\\Work Order - Data\\Cleansed_WO_File\n",
      "\n"
     ]
    }
   ],
   "source": [
    "#Change the Directory one more time to move the CSV to new folder\n",
    "\n",
    "# Function to get current working directory\n",
    "def current_path():\n",
    "    print(\"Current Directory:\")\n",
    "    print(os.getcwd())\n",
    "    print()\n",
    "    \n",
    "# Function to get new directory \n",
    "def new_path():\n",
    "    print(\"New Directory:\")\n",
    "    print(os.getcwd())\n",
    "    print()\n",
    " \n",
    " \n",
    "# Driver's code\n",
    "# Printing CWD before\n",
    "current_path()\n",
    " \n",
    "# Changing the CWD\n",
    "os.chdir('../../Cleansed_WO_File')\n",
    " \n",
    "# Printing CWD after\n",
    "new_path()"
   ]
  },
  {
   "cell_type": "code",
   "execution_count": 16,
   "id": "bccfb0b0",
   "metadata": {},
   "outputs": [
    {
     "name": "stdout",
     "output_type": "stream",
     "text": [
      "File opened in memory and export successful!\n"
     ]
    }
   ],
   "source": [
    "#Prints CSV to new folder\n",
    "df.to_csv('updated_work_orders.csv', header=df.columns, index=False, encoding='utf=8')\n",
    "\n",
    "my_file = open('updated_work_orders.csv')\n",
    "print('File opened in memory and export successful!')"
   ]
  },
  {
   "cell_type": "code",
   "execution_count": 17,
   "id": "7b8a7f29",
   "metadata": {},
   "outputs": [
    {
     "name": "stdout",
     "output_type": "stream",
     "text": [
      "file copied to db!\n"
     ]
    }
   ],
   "source": [
    "#upload to db\n",
    "\n",
    "SQL_STATEMENT = \"\"\"\n",
    "COPY work_orders FROM STDIN WITH \n",
    "    CSV\n",
    "    HEADER\n",
    "    DELIMITER AS ','\n",
    "\"\"\"\n",
    "\n",
    "cursor.copy_expert(sql = SQL_STATEMENT, file=my_file)\n",
    "print('file copied to db!')"
   ]
  },
  {
   "cell_type": "code",
   "execution_count": 18,
   "id": "fe092627",
   "metadata": {},
   "outputs": [
    {
     "name": "stdout",
     "output_type": "stream",
     "text": [
      "CSV imported to DB successfully!\n"
     ]
    }
   ],
   "source": [
    "cursor.execute(\"grant select on table work_orders to public\")\n",
    "conn.commit()\n",
    "\n",
    "cursor.close()\n",
    "print('CSV imported to DB successfully!')"
   ]
  }
 ],
 "metadata": {
  "kernelspec": {
   "display_name": "Python 3 (ipykernel)",
   "language": "python",
   "name": "python3"
  },
  "language_info": {
   "codemirror_mode": {
    "name": "ipython",
    "version": 3
   },
   "file_extension": ".py",
   "mimetype": "text/x-python",
   "name": "python",
   "nbconvert_exporter": "python",
   "pygments_lexer": "ipython3",
   "version": "3.9.12"
  }
 },
 "nbformat": 4,
 "nbformat_minor": 5
}
