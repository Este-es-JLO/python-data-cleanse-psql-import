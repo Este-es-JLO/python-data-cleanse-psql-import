{
 "cells": [
  {
   "cell_type": "code",
   "execution_count": null,
   "id": "c19981f7",
   "metadata": {},
   "outputs": [],
   "source": [
    "import numpy as np\n",
    "import pandas as pd\n",
    "import os\n",
    "import matplotlib.pyplot as plt\n",
    "import psycopg2\n",
    "\n",
    "from datetime import date\n"
   ]
  },
  {
   "cell_type": "code",
   "execution_count": null,
   "id": "c0f9e01f",
   "metadata": {},
   "outputs": [],
   "source": [
    "# Function to Get the current\n",
    "# working directory\n",
    "def current_path():\n",
    "    print(\"Current working directory before\")\n",
    "    print(os.getcwd())\n",
    "    print()\n",
    " \n",
    " \n",
    "# Driver's code\n",
    "# Printing CWD before\n",
    "current_path()\n",
    " \n",
    "# Changing the CWD\n",
    "os.chdir('../../../Work Order - Data/WO_Folders/WO_2022-2023')\n",
    " \n",
    "# Printing CWD after\n",
    "current_path()"
   ]
  },
  {
   "cell_type": "code",
   "execution_count": null,
   "id": "bcca0e79",
   "metadata": {},
   "outputs": [],
   "source": [
    "cwd = os.getcwd()  # Get the current working directory (cwd)\n",
    "file = os.listdir(cwd)[0]  # Get all the files in that directory\n",
    "print(\"Files in %r: %s\" % (cwd, file))"
   ]
  },
  {
   "cell_type": "code",
   "execution_count": null,
   "id": "967e8a68",
   "metadata": {},
   "outputs": [],
   "source": [
    "os.path.exists(file)"
   ]
  },
  {
   "cell_type": "code",
   "execution_count": null,
   "id": "95e5ec97",
   "metadata": {},
   "outputs": [],
   "source": [
    "df = pd.read_csv(file)"
   ]
  },
  {
   "cell_type": "code",
   "execution_count": null,
   "id": "cc0c4f91",
   "metadata": {},
   "outputs": [],
   "source": [
    "df.shape"
   ]
  },
  {
   "cell_type": "code",
   "execution_count": null,
   "id": "9130dcba",
   "metadata": {
    "scrolled": true
   },
   "outputs": [],
   "source": [
    "df.info()"
   ]
  },
  {
   "cell_type": "code",
   "execution_count": null,
   "id": "807b8f28",
   "metadata": {},
   "outputs": [],
   "source": [
    "df['Date Open'] = pd.to_datetime(df['Created On']).dt.date\n",
    "df['Date Closed'] = pd.to_datetime(df['Completed']).dt.date #Creates new column and sets data type from DateTime -> Date"
   ]
  },
  {
   "cell_type": "code",
   "execution_count": null,
   "id": "adac8b3c",
   "metadata": {},
   "outputs": [],
   "source": [
    "df['Date Difference'] = date.today() - df['Date Open'] #Takes the difference between today's date from Date Open\n",
    "df['Date Difference'] = df['Date Difference'].dt.days #Converts DateTime Type to Integer"
   ]
  },
  {
   "cell_type": "code",
   "execution_count": null,
   "id": "ffd3e36e",
   "metadata": {},
   "outputs": [],
   "source": [
    "df['Duration'] = df['Date Closed'] - df['Date Open'] #Takes the diffrence between Date Closed from Date Open\n",
    "df['Duration'] = df['Duration'].dt.days #Converts DateTime Type to Integer\n",
    "df['Duration'] = df['Duration'].abs() #Gets the Absolute Value of Column Values"
   ]
  },
  {
   "cell_type": "code",
   "execution_count": null,
   "id": "1fcaf76f",
   "metadata": {},
   "outputs": [],
   "source": [
    "df['Site_ID'] = df['Source Site'].str[-3:] #Takes the last 3 characters froms string in this case, we get extract the Site Code"
   ]
  },
  {
   "cell_type": "code",
   "execution_count": null,
   "id": "65b4f334",
   "metadata": {},
   "outputs": [],
   "source": [
    "df['School Year'] = '2022 - 2023'"
   ]
  },
  {
   "cell_type": "code",
   "execution_count": null,
   "id": "00ab879a",
   "metadata": {},
   "outputs": [],
   "source": [
    "df['Duration'] = df['Duration'].fillna(df['Date Difference']) #Fill null values from Duration column with values from Date Difference"
   ]
  },
  {
   "cell_type": "code",
   "execution_count": null,
   "id": "fe3ed0a0",
   "metadata": {},
   "outputs": [],
   "source": [
    "df['Row Count'] = 1"
   ]
  },
  {
   "cell_type": "code",
   "execution_count": null,
   "id": "1d6bb765",
   "metadata": {},
   "outputs": [],
   "source": [
    "df = df.drop(columns=['Area/Room #', 'Originator', 'Originator First Name', 'Work requested', 'Cause', 'Action Taken', 'Comments' ,'Longitude', 'Latitude', 'PM Title', 'Completed','Created On', 'Originated']) #Drops/Removes the columns from table"
   ]
  },
  {
   "cell_type": "code",
   "execution_count": null,
   "id": "6f57cd08",
   "metadata": {},
   "outputs": [],
   "source": [
    "df = df[df['Site_ID'].str.contains(\"ZZ-|032|941\") == False]"
   ]
  },
  {
   "cell_type": "code",
   "execution_count": null,
   "id": "82e7ab4d",
   "metadata": {},
   "outputs": [],
   "source": [
    "df.head()"
   ]
  },
  {
   "cell_type": "code",
   "execution_count": null,
   "id": "a3cf3a98",
   "metadata": {},
   "outputs": [],
   "source": [
    "df.info()"
   ]
  },
  {
   "cell_type": "code",
   "execution_count": null,
   "id": "44d65c60",
   "metadata": {},
   "outputs": [],
   "source": [
    "df = df.drop_duplicates(subset='Work Order #', keep='first')\n",
    "df.info()"
   ]
  },
  {
   "cell_type": "code",
   "execution_count": null,
   "id": "dde42dd2",
   "metadata": {},
   "outputs": [],
   "source": [
    "clean_tbl_name = file.lower().replace(\" \",\"\").replace(\"?\", \"\")\\\n",
    "                    .replace(\"-\", \"_\").replace(r\"/\",\"_\").replace(\"\\\\\", \"_\")\\\n",
    "                    .replace(\"%\", \"\").replace(\")\", \"\").replace(r\"(\",\"\").replace(\"$\", \"\")\\\n",
    "                    .replace(\"pm\", \"\").replace(\"1\", \"\").replace(\"2\", \"\").replace(\"3\", \"\")\\\n",
    "                    .replace(\"4\", \"\").replace(\"5\", \"\").replace(\"6\", \"\").replace(\"7\", \"\")\\\n",
    "                    .replace(\"8\", \"\").replace(\"9\", \"\").replace(\"0\", \"\").replace(\"_\", \"\")\\\n",
    "                    .replace(\"workorder\", \"updated_work_orders\")\n",
    "clean_tbl_name"
   ]
  },
  {
   "cell_type": "code",
   "execution_count": null,
   "id": "7ab45958",
   "metadata": {},
   "outputs": [],
   "source": [
    "df.columns = [x.lower().replace(\" \",\"_\").replace(\"?\", \"\").replace(\"#\", \"id\")\\\n",
    "                    .replace(\"-\", \"_\").replace(r\"/\",\"_\").replace(\"\\\\\", \"_\")\\\n",
    "                    .replace(\"%\", \"\").replace(\")\", \"\").replace(r\"(\",\"\").replace(\"$\", \"\") for x in df.columns]\n",
    "\n",
    "df.columns"
   ]
  },
  {
   "cell_type": "code",
   "execution_count": null,
   "id": "4b388f62",
   "metadata": {},
   "outputs": [],
   "source": [
    "df.dtypes"
   ]
  },
  {
   "cell_type": "code",
   "execution_count": null,
   "id": "fa5732c1",
   "metadata": {},
   "outputs": [],
   "source": [
    "replacements = {\n",
    "    'object': 'varchar',\n",
    "    'float64': 'float',\n",
    "    'int64': 'int',\n",
    "    'datetime64': 'timestamp',\n",
    "    'timedelta64[ns]': 'varchar'\n",
    "}\n",
    "\n",
    "replacements"
   ]
  },
  {
   "cell_type": "code",
   "execution_count": null,
   "id": "4f91744b",
   "metadata": {},
   "outputs": [],
   "source": [
    "col_str = \", \".join(\"{} {}\".format(n, d) for (n,d) in zip(df.columns, df.dtypes.replace(replacements)))\n",
    "col_str"
   ]
  },
  {
   "cell_type": "code",
   "execution_count": null,
   "id": "79770c91",
   "metadata": {},
   "outputs": [],
   "source": [
    "conn_string = \"host=####\\\n",
    "               dbname='#####'\\\n",
    "               user=##### password='####'\"\n",
    "\n",
    "conn = psycopg2.connect(conn_string)\n",
    "cursor = conn.cursor()\n",
    "print('opened database successfully!')"
   ]
  },
  {
   "cell_type": "code",
   "execution_count": null,
   "id": "c5eedc87",
   "metadata": {},
   "outputs": [],
   "source": [
    "#drop table\n",
    "cursor.execute(\"drop table if exists work_orders;\")"
   ]
  },
  {
   "cell_type": "code",
   "execution_count": null,
   "id": "83794b3c",
   "metadata": {},
   "outputs": [],
   "source": [
    "#create table\n",
    "cursor.execute(\"CREATE TABLE work_orders \\\n",
    "(work_order_id INT NOT NULL PRIMARY KEY, wo_status VARCHAR(50), priority VARCHAR(50), \\\n",
    "work_category VARCHAR(50) REFERENCES work_category(work_category), problem VARCHAR(50), \\\n",
    "source_site VARCHAR(50), source_location VARCHAR(50), source_user VARCHAR(50), work_type VARCHAR(50),\\\n",
    "labor_hrs float, part_cost float, labor_cost float, total_hrs float, grand_total float, \\\n",
    "date_open DATE, date_closed DATE, \\\n",
    "date_difference float, duration float, site_id INT REFERENCES schools(site_id), school_year VARCHAR(25), row_count INT NOT NULL)\")"
   ]
  },
  {
   "cell_type": "code",
   "execution_count": null,
   "id": "bccfb0b0",
   "metadata": {},
   "outputs": [],
   "source": [
    "df.to_csv('updated_work_orders.csv', header=df.columns, index=False, encoding='utf=8')\n",
    "\n",
    "my_file = open('updated_work_orders.csv')\n",
    "print('File opened in memory and export successful!')"
   ]
  },
  {
   "cell_type": "markdown",
   "id": "942303b9",
   "metadata": {},
   "source": [
    "#upload to db\n",
    "\n",
    "SQL_STATEMENT = \"\"\"\n",
    "COPY work_orders FROM STDIN WITH \n",
    "    CSV\n",
    "    HEADER\n",
    "    DELIMITER AS ','\n",
    "\"\"\"\n",
    "\n",
    "cursor.copy_expert(sql = SQL_STATEMENT, file=my_file)\n",
    "print('file copied to db!')"
   ]
  },
  {
   "cell_type": "code",
   "execution_count": null,
   "id": "fe092627",
   "metadata": {},
   "outputs": [],
   "source": [
    "cursor.execute(\"grant select on table work_orders to public\")\n",
    "conn.commit()\n",
    "\n",
    "cursor.close()\n",
    "print('CSV imported to DB successfully!')"
   ]
  }
 ],
 "metadata": {
  "kernelspec": {
   "display_name": "Python 3 (ipykernel)",
   "language": "python",
   "name": "python3"
  },
  "language_info": {
   "codemirror_mode": {
    "name": "ipython",
    "version": 3
   },
   "file_extension": ".py",
   "mimetype": "text/x-python",
   "name": "python",
   "nbconvert_exporter": "python",
   "pygments_lexer": "ipython3",
   "version": "3.9.12"
  }
 },
 "nbformat": 4,
 "nbformat_minor": 5
}
