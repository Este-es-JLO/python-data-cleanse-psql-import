{
 "cells": [
  {
   "cell_type": "code",
   "execution_count": null,
   "id": "c19981f7",
   "metadata": {},
   "outputs": [],
   "source": [
    "import numpy as np\n",
    "import pandas as pd\n",
    "import os\n",
    "import matplotlib.pyplot as plt\n",
    "import psycopg2\n",
    "import glob\n",
    "\n",
    "from datetime import date\n"
   ]
  },
  {
   "cell_type": "code",
   "execution_count": null,
   "id": "c0f9e01f",
   "metadata": {},
   "outputs": [],
   "source": [
    "# Function to get current working directory\n",
    "def current_path():\n",
    "    print(\"Current Directory:\")\n",
    "    print(os.getcwd())\n",
    "    print()\n",
    "    \n",
    "# Function to get new directory \n",
    "def new_path():\n",
    "    print(\"New Directory:\")\n",
    "    print(os.getcwd())\n",
    "    print()\n",
    " \n",
    " \n",
    "# Driver's code\n",
    "# Printing CWD before\n",
    "current_path()\n",
    " \n",
    "# Changing the CWD\n",
    "os.chdir('../../../Work Order - Data/WO_Folders/WO_2022-2023')\n",
    " \n",
    "# Printing CWD after\n",
    "new_path()\n",
    "\n",
    "#Itererates and gets the latest file\n",
    "cwd = os.getcwd()\n",
    "files = [x for x in os.listdir(cwd) if x.endswith(\".csv\")]\n",
    "newest_file = max(files, key = os.path.getctime)\n",
    "print(\"Latest CSV Received: \", newest_file)\n",
    "\n",
    "#Ensuring that the files is chosen:\n",
    "os.path.exists(newest_file)"
   ]
  },
  {
   "cell_type": "code",
   "execution_count": null,
   "id": "807b8f28",
   "metadata": {},
   "outputs": [],
   "source": [
    "df = pd.read_csv(newest_file)\n",
    "\n",
    "df['Date Open'] = pd.to_datetime(df['Created On']).dt.date\n",
    "df['Date Closed'] = pd.to_datetime(df['Completed']).dt.date #Creates new column and sets data type from DateTime -> Date\n",
    "\n",
    "df['Date Difference'] = date.today() - df['Date Open'] #Takes the difference between today's date from Date Open\n",
    "df['Date Difference'] = df['Date Difference'].dt.days #Converts DateTime Type to Integer\n",
    "\n",
    "df['Duration'] = df['Date Closed'] - df['Date Open'] #Takes the diffrence between Date Closed from Date Open\n",
    "df['Duration'] = df['Duration'].dt.days #Converts DateTime Type to Integer\n",
    "df['Duration'] = df['Duration'].abs() #Gets the Absolute Value of Column Values\n",
    "\n",
    "df['Site_ID'] = df['Source Site'].str[-3:] #Takes the last 3 characters froms string in this case, we get extract the Site Code\n",
    "\n",
    "df['School Year'] = '2022 - 2023' #Create new column of School Year\n",
    "\n",
    "df['Duration'] = df['Duration'].fillna(df['Date Difference']) #Fill null values from Duration column with values from Date Difference\n",
    "\n",
    "df['Row Count'] = 1 #Create new column of Row Count\n",
    "\n",
    "df = df.drop(columns=['Area/Room #', 'Originator', 'Originator First Name', 'Work requested', 'Cause', 'Action Taken', 'Comments' ,'Longitude', 'Latitude', 'PM Title', 'Completed','Created On', 'Originated']) #Drops/Removes the columns from table\n",
    "\n",
    "df = df[df['Site_ID'].str.contains(\"ZZ-|032|941\") == False] #Remove any string or cell that contains those characters\n",
    "\n",
    "df = df.drop_duplicates(subset='Work Order #', keep='first') #Remove any duplicates\n",
    "df.info()"
   ]
  },
  {
   "cell_type": "code",
   "execution_count": null,
   "id": "dde42dd2",
   "metadata": {},
   "outputs": [],
   "source": [
    "#Change the file to \"updated work orders\"\n",
    "clean_tbl_name = newest_file.lower().replace(\" \",\"\").replace(\"?\", \"\")\\\n",
    "                    .replace(\"-\", \"_\").replace(r\"/\",\"_\").replace(\"\\\\\", \"_\")\\\n",
    "                    .replace(\"%\", \"\").replace(\")\", \"\").replace(r\"(\",\"\").replace(\"$\", \"\")\\\n",
    "                    .replace(\"pm\", \"\").replace(\"1\", \"\").replace(\"2\", \"\").replace(\"3\", \"\")\\\n",
    "                    .replace(\"4\", \"\").replace(\"5\", \"\").replace(\"6\", \"\").replace(\"7\", \"\")\\\n",
    "                    .replace(\"8\", \"\").replace(\"9\", \"\").replace(\"0\", \"\").replace(\"_\", \"\")\\\n",
    "                    .replace(\"workorder\", \"updated_work_orders\")\n",
    "clean_tbl_name"
   ]
  },
  {
   "cell_type": "code",
   "execution_count": null,
   "id": "7ab45958",
   "metadata": {},
   "outputs": [],
   "source": [
    "#Modify column names\n",
    "df.columns = [x.lower().replace(\" \",\"_\").replace(\"?\", \"\").replace(\"#\", \"id\")\\\n",
    "                    .replace(\"-\", \"_\").replace(r\"/\",\"_\").replace(\"\\\\\", \"_\")\\\n",
    "                    .replace(\"%\", \"\").replace(\")\", \"\").replace(r\"(\",\"\").replace(\"$\", \"\") for x in df.columns]\n",
    "\n",
    "df.columns"
   ]
  },
  {
   "cell_type": "code",
   "execution_count": null,
   "id": "4b388f62",
   "metadata": {},
   "outputs": [],
   "source": [
    "df.dtypes"
   ]
  },
  {
   "cell_type": "code",
   "execution_count": null,
   "id": "fa5732c1",
   "metadata": {},
   "outputs": [],
   "source": [
    "replacements = {\n",
    "    'object': 'varchar',\n",
    "    'float64': 'float',\n",
    "    'int64': 'int',\n",
    "    'datetime64': 'timestamp',\n",
    "    'timedelta64[ns]': 'varchar'\n",
    "}\n",
    "\n",
    "replacements"
   ]
  },
  {
   "cell_type": "code",
   "execution_count": null,
   "id": "4f91744b",
   "metadata": {},
   "outputs": [],
   "source": [
    "col_str = \", \".join(\"{} {}\".format(n, d) for (n,d) in zip(df.columns, df.dtypes.replace(replacements)))\n",
    "col_str"
   ]
  },
  {
   "cell_type": "code",
   "execution_count": null,
   "id": "79770c91",
   "metadata": {},
   "outputs": [],
   "source": [
    "#Connect to my PSQL Server\n",
    "conn_string = \"host=localhost\\\n",
    "               dbname='work_orders'\\\n",
    "               user=postgres password='postgres'\"\n",
    "\n",
    "conn = psycopg2.connect(conn_string)\n",
    "cursor = conn.cursor()\n",
    "print('opened database successfully!')"
   ]
  },
  {
   "cell_type": "code",
   "execution_count": null,
   "id": "c5eedc87",
   "metadata": {},
   "outputs": [],
   "source": [
    "#drop table\n",
    "cursor.execute(\"drop table if exists work_orders;\")"
   ]
  },
  {
   "cell_type": "code",
   "execution_count": null,
   "id": "83794b3c",
   "metadata": {},
   "outputs": [],
   "source": [
    "#create table\n",
    "cursor.execute(\"CREATE TABLE work_orders \\\n",
    "(work_order_id INT NOT NULL PRIMARY KEY, wo_status VARCHAR(50), priority VARCHAR(50), \\\n",
    "work_category VARCHAR(50) REFERENCES work_category(work_category), problem VARCHAR(50), \\\n",
    "source_site VARCHAR(50), source_location VARCHAR(50), source_user VARCHAR(50), work_type VARCHAR(50),\\\n",
    "labor_hrs float, part_cost float, labor_cost float, total_hrs float, grand_total float, \\\n",
    "date_open DATE, date_closed DATE, \\\n",
    "date_difference float, duration float, site_id INT REFERENCES schools(site_id), school_year VARCHAR(25), row_count INT NOT NULL)\")"
   ]
  },
  {
   "cell_type": "code",
   "execution_count": null,
   "id": "135ec665",
   "metadata": {},
   "outputs": [],
   "source": [
    "#Change the Directory one more time to move the CSV to new folder\n",
    "\n",
    "# Function to get current working directory\n",
    "def current_path():\n",
    "    print(\"Current Directory:\")\n",
    "    print(os.getcwd())\n",
    "    print()\n",
    "    \n",
    "# Function to get new directory \n",
    "def new_path():\n",
    "    print(\"New Directory:\")\n",
    "    print(os.getcwd())\n",
    "    print()\n",
    " \n",
    " \n",
    "# Driver's code\n",
    "# Printing CWD before\n",
    "current_path()\n",
    " \n",
    "# Changing the CWD\n",
    "os.chdir('../../Cleansed_WO_File')\n",
    " \n",
    "# Printing CWD after\n",
    "new_path()"
   ]
  },
  {
   "cell_type": "code",
   "execution_count": null,
   "id": "bccfb0b0",
   "metadata": {},
   "outputs": [],
   "source": [
    "#Prints CSV to new folder\n",
    "df.to_csv('updated_work_orders.csv', header=df.columns, index=False, encoding='utf=8')\n",
    "\n",
    "my_file = open('updated_work_orders.csv')\n",
    "print('File opened in memory and export successful!')"
   ]
  },
  {
   "cell_type": "code",
   "execution_count": null,
   "id": "41915795",
   "metadata": {},
   "outputs": [],
   "source": [
    "#upload to db\n",
    "\n",
    "SQL_STATEMENT = \"\"\"\n",
    "COPY work_orders FROM STDIN WITH \n",
    "    CSV\n",
    "    HEADER\n",
    "    DELIMITER AS ','\n",
    "\"\"\"\n",
    "\n",
    "cursor.copy_expert(sql = SQL_STATEMENT, file=my_file)\n",
    "print('file copied to db!')"
   ]
  },
  {
   "cell_type": "code",
   "execution_count": null,
   "id": "fe092627",
   "metadata": {},
   "outputs": [],
   "source": [
    "cursor.execute(\"grant select on table work_orders to public\")\n",
    "conn.commit()\n",
    "\n",
    "cursor.close()\n",
    "print('CSV imported to DB successfully!')"
   ]
  }
 ],
 "metadata": {
  "kernelspec": {
   "display_name": "Python 3 (ipykernel)",
   "language": "python",
   "name": "python3"
  },
  "language_info": {
   "codemirror_mode": {
    "name": "ipython",
    "version": 3
   },
   "file_extension": ".py",
   "mimetype": "text/x-python",
   "name": "python",
   "nbconvert_exporter": "python",
   "pygments_lexer": "ipython3",
   "version": "3.9.12"
  }
 },
 "nbformat": 4,
 "nbformat_minor": 5
}
